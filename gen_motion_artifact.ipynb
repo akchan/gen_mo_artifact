{
 "cells": [
  {
   "cell_type": "code",
   "execution_count": 1,
   "metadata": {},
   "outputs": [],
   "source": [
    "%load_ext autoreload\n",
    "%autoreload 2\n",
    "\n",
    "%matplotlib inline\n",
    "import matplotlib.pyplot as plt\n",
    "import numpy as np\n",
    "\n",
    "from PIL import Image"
   ]
  },
  {
   "cell_type": "code",
   "execution_count": 4,
   "metadata": {},
   "outputs": [],
   "source": [
    "# Import phantom image\n",
    "phantom = Image.open('phantom.png').convert('L')\n",
    "phantom = np.array(phantom)"
   ]
  },
  {
   "cell_type": "code",
   "execution_count": 5,
   "metadata": {},
   "outputs": [
    {
     "data": {
      "text/plain": [
       "<matplotlib.image.AxesImage at 0x1169c7a60>"
      ]
     },
     "execution_count": 5,
     "metadata": {},
     "output_type": "execute_result"
    },
    {
     "data": {
      "image/png": "[encoded data removed]",
      "text/plain": [
       "<Figure size 432x288 with 1 Axes>"
      ]
     },
     "metadata": {
      "needs_background": "light"
     },
     "output_type": "display_data"
    }
   ],
   "source": [
    "plt.imshow(phantom)"
   ]
  },
  {
   "cell_type": "markdown",
   "metadata": {},
   "source": [
    "# Motion artifact - case 1"
   ]
  },
  {
   "cell_type": "code",
   "execution_count": 40,
   "metadata": {},
   "outputs": [
    {
     "data": {
      "text/plain": [
       "<matplotlib.image.AxesImage at 0x118aa70a0>"
      ]
     },
     "execution_count": 40,
     "metadata": {},
     "output_type": "execute_result"
    },
    {
     "data": {
      "image/png": "[encoded data removed]",
      "text/plain": [
       "<Figure size 432x288 with 1 Axes>"
      ]
     },
     "metadata": {
      "needs_background": "light"
     },
     "output_type": "display_data"
    }
   ],
   "source": [
    "# Build motion artifact position map\n",
    "# (*) nx is the phase encoding direction\n",
    "nx, ny = phantom.shape\n",
    "\n",
    "mo_map = np.zeros([nx, ny])\n",
    "\n",
    "# Set positive value where motion artifacts should appear\n",
    "mo_map[43:nx:nx//3, :] = 1.0\n",
    "\n",
    "plt.imshow(mo_map)"
   ]
  },
  {
   "cell_type": "code",
   "execution_count": 41,
   "metadata": {
    "scrolled": false
   },
   "outputs": [
    {
     "data": {
      "text/plain": [
       "<matplotlib.image.AxesImage at 0x118ea2b50>"
      ]
     },
     "execution_count": 41,
     "metadata": {},
     "output_type": "execute_result"
    },
    {
     "data": {
      "image/png": "[encoded data removed]",
      "text/plain": [
       "<Figure size 432x288 with 1 Axes>"
      ]
     },
     "metadata": {
      "needs_background": "light"
     },
     "output_type": "display_data"
    }
   ],
   "source": [
    "# Generate motion artifact\n",
    "mo_map_ksp = np.fft.fftshift(np.fft.fftn(np.fft.ifftshift(mo_map, axes=[0]),\n",
    "                                         axes=[0],\n",
    "                                         norm='ortho'),\n",
    "                             axes=[0])\n",
    "\n",
    "phantom_ksp = np.fft.fftshift(np.fft.fftn(np.fft.ifftshift(phantom, axes=[0]),\n",
    "                                          axes=[0],\n",
    "                                          norm='ortho'),\n",
    "                              axes=[0])\n",
    "\n",
    "kspace_with_artifact = phantom_ksp * mo_map_ksp\n",
    "\n",
    "img_with_artifact = np.fft.fftshift(np.fft.ifftn(np.fft.fftshift(kspace_with_artifact,\n",
    "                                                                 axes=[0]),\n",
    "                                                 axes=[0],\n",
    "                                                 norm='ortho'),\n",
    "                                    axes=[0])\n",
    "\n",
    "plt.imshow(np.abs(img_with_artifact))"
   ]
  },
  {
   "cell_type": "markdown",
   "metadata": {},
   "source": [
    "# Motion artifact - case 2"
   ]
  },
  {
   "cell_type": "code",
   "execution_count": 44,
   "metadata": {},
   "outputs": [
    {
     "data": {
      "text/plain": [
       "<matplotlib.image.AxesImage at 0x118f0cf10>"
      ]
     },
     "execution_count": 44,
     "metadata": {},
     "output_type": "execute_result"
    },
    {
     "data": {
      "image/png": "[encoded data removed]",
      "text/plain": [
       "<Figure size 432x288 with 1 Axes>"
      ]
     },
     "metadata": {
      "needs_background": "light"
     },
     "output_type": "display_data"
    }
   ],
   "source": [
    "# Build motion artifact position map\n",
    "# (*) nx is the phase encoding direction\n",
    "nx, ny = phantom.shape\n",
    "\n",
    "mo_map = np.zeros([nx, ny])\n",
    "\n",
    "# Set positive value where motion artifacts should appear\n",
    "mo_map[nx//2, :] = 1.0\n",
    "mo_map[nx//2 + 80, :] = 0.25\n",
    "mo_map[nx//2 - 40, :] = 0.1\n",
    "\n",
    "plt.imshow(mo_map)"
   ]
  },
  {
   "cell_type": "code",
   "execution_count": 45,
   "metadata": {
    "scrolled": true
   },
   "outputs": [
    {
     "data": {
      "text/plain": [
       "<matplotlib.image.AxesImage at 0x116435f10>"
      ]
     },
     "execution_count": 45,
     "metadata": {},
     "output_type": "execute_result"
    },
    {
     "data": {
      "image/png": "[encoded data removed]",
      "text/plain": [
       "<Figure size 432x288 with 1 Axes>"
      ]
     },
     "metadata": {
      "needs_background": "light"
     },
     "output_type": "display_data"
    }
   ],
   "source": [
    "# Generate motion artifact\n",
    "mo_map_ksp = np.fft.fftshift(np.fft.fftn(np.fft.ifftshift(mo_map, axes=[0]),\n",
    "                                         axes=[0],\n",
    "                                         norm='ortho'),\n",
    "                             axes=[0])\n",
    "\n",
    "phantom_ksp = np.fft.fftshift(np.fft.fftn(np.fft.ifftshift(phantom, axes=[0]),\n",
    "                                          axes=[0],\n",
    "                                          norm='ortho'),\n",
    "                              axes=[0])\n",
    "\n",
    "kspace_with_artifact = phantom_ksp * mo_map_ksp\n",
    "\n",
    "img_with_artifact = np.fft.fftshift(np.fft.ifftn(np.fft.fftshift(kspace_with_artifact,\n",
    "                                                                 axes=[0]),\n",
    "                                                 axes=[0],\n",
    "                                                 norm='ortho'),\n",
    "                                    axes=[0])\n",
    "\n",
    "plt.imshow(np.abs(img_with_artifact))"
   ]
  },
  {
   "cell_type": "code",
   "execution_count": null,
   "metadata": {},
   "outputs": [],
   "source": []
  }
 ],
 "metadata": {
  "kernelspec": {
   "display_name": "Python 3",
   "language": "python",
   "name": "python3"
  },
  "language_info": {
   "codemirror_mode": {
    "name": "ipython",
    "version": 3
   },
   "file_extension": ".py",
   "mimetype": "text/x-python",
   "name": "python",
   "nbconvert_exporter": "python",
   "pygments_lexer": "ipython3",
   "version": "3.8.6"
  }
 },
 "nbformat": 4,
 "nbformat_minor": 4
}
