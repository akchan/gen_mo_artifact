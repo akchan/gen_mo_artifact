{
 "cells": [
  {
   "cell_type": "code",
   "execution_count": 1,
   "metadata": {},
   "outputs": [],
   "source": [
    "%load_ext autoreload\n",
    "%autoreload 2\n",
    "\n",
    "%matplotlib inline\n",
    "import matplotlib.pyplot as plt\n",
    "import numpy as np"
   ]
  },
  {
   "cell_type": "code",
   "execution_count": 2,
   "metadata": {},
   "outputs": [],
   "source": [
    "def zerofill(img, size):\n",
    "    img_zf = np.zeros(size, dtype=img.dtype)\n",
    "    slices_to_fill = []\n",
    "\n",
    "    for i in range(img.ndim):\n",
    "        n_in = img.shape[i]\n",
    "        n_zf = size[i]\n",
    "\n",
    "        slice_axis = slice(n_zf//2 - n_in//2, n_zf//2 - n_in//2 + n_in)\n",
    "        slices_to_fill.append(slice_axis)\n",
    "\n",
    "    img_zf[tuple(slices_to_fill)] = img\n",
    "\n",
    "    return img_zf\n",
    "\n",
    "\n",
    "def mask_ellipse(size=(100,100)):\n",
    "    nx, ny = size\n",
    "    rx = nx // 2\n",
    "    ry = ny // 2\n",
    "    \n",
    "    x, y = np.ogrid[0:nx, 0:ny]\n",
    "    ellipse = (((x - rx)/rx)**2 + ((y - ry)/ry)**2 <= 1).astype(np.uint8)\n",
    "    \n",
    "    return ellipse"
   ]
  },
  {
   "cell_type": "code",
   "execution_count": null,
   "metadata": {},
   "outputs": [],
   "source": [
    "img_size = (256, 256)\n",
    "disk_size = 50\n",
    "\n"
   ]
  }
 ],
 "metadata": {
  "kernelspec": {
   "display_name": "Python 3",
   "language": "python",
   "name": "python3"
  },
  "language_info": {
   "codemirror_mode": {
    "name": "ipython",
    "version": 3
   },
   "file_extension": ".py",
   "mimetype": "text/x-python",
   "name": "python",
   "nbconvert_exporter": "python",
   "pygments_lexer": "ipython3",
   "version": "3.8.6"
  }
 },
 "nbformat": 4,
 "nbformat_minor": 4
}
